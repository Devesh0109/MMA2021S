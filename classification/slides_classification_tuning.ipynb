{
 "cells": [
  {
   "cell_type": "markdown",
   "metadata": {},
   "source": [
    "# Classification Hyperparameter Tuning\n",
    "\n",
    "- Stephen W. Thomas\n",
    "- Used for MMA 869, MMAI 869, and GMMA 869"
   ]
  },
  {
   "cell_type": "code",
   "execution_count": 1,
   "metadata": {},
   "outputs": [
    {
     "name": "stdout",
     "output_type": "stream",
     "text": [
      "2020-10-06 09:21:29.594957\n"
     ]
    }
   ],
   "source": [
    "import datetime\n",
    "print(datetime.datetime.now())"
   ]
  },
  {
   "cell_type": "code",
   "execution_count": 2,
   "metadata": {},
   "outputs": [],
   "source": [
    "import pandas as pd\n",
    "import numpy as np\n",
    "import matplotlib.pyplot as plt\n",
    "\n",
    "from IPython.core.interactiveshell import InteractiveShell\n",
    "InteractiveShell.ast_node_interactivity = \"all\""
   ]
  },
  {
   "cell_type": "code",
   "execution_count": 3,
   "metadata": {},
   "outputs": [
    {
     "name": "stdout",
     "output_type": "stream",
     "text": [
      "The scikit-learn version is 0.23.1.\n"
     ]
    }
   ],
   "source": [
    "import sklearn\n",
    "print('The scikit-learn version is {}.'.format(sklearn.__version__))"
   ]
  },
  {
   "cell_type": "code",
   "execution_count": 4,
   "metadata": {},
   "outputs": [],
   "source": [
    "# Create the 'out' directory to store output images\n",
    "import os\n",
    "if not os.path.exists('out'):\n",
    "    os.makedirs('out')"
   ]
  },
  {
   "cell_type": "markdown",
   "metadata": {},
   "source": [
    "# Read Data\n"
   ]
  },
  {
   "cell_type": "code",
   "execution_count": 5,
   "metadata": {},
   "outputs": [
    {
     "name": "stdout",
     "output_type": "stream",
     "text": [
      "<class 'pandas.core.frame.DataFrame'>\n",
      "RangeIndex: 500 entries, 0 to 499\n",
      "Data columns (total 3 columns):\n",
      " #   Column  Non-Null Count  Dtype  \n",
      "---  ------  --------------  -----  \n",
      " 0   Age     500 non-null    float64\n",
      " 1   Income  500 non-null    float64\n",
      " 2   Bought  500 non-null    int64  \n",
      "dtypes: float64(2), int64(1)\n",
      "memory usage: 11.8 KB\n"
     ]
    },
    {
     "data": {
      "text/html": [
       "<div>\n",
       "<style scoped>\n",
       "    .dataframe tbody tr th:only-of-type {\n",
       "        vertical-align: middle;\n",
       "    }\n",
       "\n",
       "    .dataframe tbody tr th {\n",
       "        vertical-align: top;\n",
       "    }\n",
       "\n",
       "    .dataframe thead th {\n",
       "        text-align: right;\n",
       "    }\n",
       "</style>\n",
       "<table border=\"1\" class=\"dataframe\">\n",
       "  <thead>\n",
       "    <tr style=\"text-align: right;\">\n",
       "      <th></th>\n",
       "      <th>Age</th>\n",
       "      <th>Income</th>\n",
       "      <th>Bought</th>\n",
       "    </tr>\n",
       "  </thead>\n",
       "  <tbody>\n",
       "    <tr>\n",
       "      <th>0</th>\n",
       "      <td>0.748126</td>\n",
       "      <td>1.185890</td>\n",
       "      <td>0</td>\n",
       "    </tr>\n",
       "    <tr>\n",
       "      <th>1</th>\n",
       "      <td>-1.645760</td>\n",
       "      <td>-2.933332</td>\n",
       "      <td>1</td>\n",
       "    </tr>\n",
       "    <tr>\n",
       "      <th>2</th>\n",
       "      <td>0.279829</td>\n",
       "      <td>0.835401</td>\n",
       "      <td>0</td>\n",
       "    </tr>\n",
       "    <tr>\n",
       "      <th>3</th>\n",
       "      <td>0.195853</td>\n",
       "      <td>1.249209</td>\n",
       "      <td>0</td>\n",
       "    </tr>\n",
       "    <tr>\n",
       "      <th>4</th>\n",
       "      <td>-1.357053</td>\n",
       "      <td>-1.409123</td>\n",
       "      <td>1</td>\n",
       "    </tr>\n",
       "  </tbody>\n",
       "</table>\n",
       "</div>"
      ],
      "text/plain": [
       "        Age    Income  Bought\n",
       "0  0.748126  1.185890       0\n",
       "1 -1.645760 -2.933332       1\n",
       "2  0.279829  0.835401       0\n",
       "3  0.195853  1.249209       0\n",
       "4 -1.357053 -1.409123       1"
      ]
     },
     "execution_count": 5,
     "metadata": {},
     "output_type": "execute_result"
    }
   ],
   "source": [
    "df = pd.read_csv(\"../data/generated_marketing.csv\")\n",
    "df.info()\n",
    "df.head()\n",
    "\n",
    "feature_names = ['Age', 'Income']\n",
    "X = df[feature_names].to_numpy()\n",
    "y = df['Bought'].to_numpy()"
   ]
  },
  {
   "cell_type": "markdown",
   "metadata": {},
   "source": [
    "# Splitting the Data"
   ]
  },
  {
   "cell_type": "code",
   "execution_count": 6,
   "metadata": {},
   "outputs": [
    {
     "data": {
      "text/plain": [
       "numpy.ndarray"
      ]
     },
     "execution_count": 6,
     "metadata": {},
     "output_type": "execute_result"
    },
    {
     "data": {
      "text/plain": [
       "numpy.ndarray"
      ]
     },
     "execution_count": 6,
     "metadata": {},
     "output_type": "execute_result"
    }
   ],
   "source": [
    "from sklearn.model_selection import train_test_split\n",
    "\n",
    "X_train, X_test, y_train, y_test = train_test_split(X, y, test_size=0.2, random_state=42)\n",
    "\n",
    "type(X_train)\n",
    "type(y_train)"
   ]
  },
  {
   "cell_type": "markdown",
   "metadata": {},
   "source": [
    "# Decision Trees"
   ]
  },
  {
   "cell_type": "code",
   "execution_count": 7,
   "metadata": {},
   "outputs": [
    {
     "data": {
      "text/plain": [
       "DecisionTreeClassifier(criterion='entropy', max_depth=3, max_leaf_nodes=5,\n",
       "                       min_samples_leaf=10, min_samples_split=10,\n",
       "                       random_state=42)"
      ]
     },
     "execution_count": 7,
     "metadata": {},
     "output_type": "execute_result"
    }
   ],
   "source": [
    "from sklearn.tree import DecisionTreeClassifier\n",
    "\n",
    "clf = DecisionTreeClassifier(random_state=42, criterion=\"entropy\",\n",
    "                             min_samples_split=10, min_samples_leaf=10, max_depth=3, max_leaf_nodes=5)\n",
    "clf.fit(X_train, y_train)\n",
    "\n",
    "y_pred_dt = clf.predict(X_test)"
   ]
  },
  {
   "cell_type": "code",
   "execution_count": 8,
   "metadata": {},
   "outputs": [],
   "source": [
    "class_names = [str(x) for x in clf.classes_]"
   ]
  },
  {
   "cell_type": "markdown",
   "metadata": {},
   "source": [
    "## Hyperparameter Tuning"
   ]
  },
  {
   "cell_type": "markdown",
   "metadata": {},
   "source": [
    "### Grid Search"
   ]
  },
  {
   "cell_type": "code",
   "execution_count": 9,
   "metadata": {},
   "outputs": [
    {
     "name": "stdout",
     "output_type": "stream",
     "text": [
      "Wall time: 1.81 s\n"
     ]
    },
    {
     "data": {
      "text/plain": [
       "GridSearchCV(cv=5, estimator=DecisionTreeClassifier(random_state=42),\n",
       "             param_grid={'criterion': ('gini', 'entropy'),\n",
       "                         'max_depth': [2, 10, 20],\n",
       "                         'max_features': [None, 'auto'],\n",
       "                         'max_leaf_nodes': [None, 10, 50],\n",
       "                         'min_samples_leaf': [1, 5, 10]},\n",
       "             return_train_score=True, scoring='roc_auc')"
      ]
     },
     "execution_count": 9,
     "metadata": {},
     "output_type": "execute_result"
    }
   ],
   "source": [
    "from sklearn.model_selection import GridSearchCV\n",
    "\n",
    "clf = DecisionTreeClassifier(splitter='best', class_weight=None, random_state=42)\n",
    "\n",
    "params = {'criterion': ('gini', 'entropy'), \n",
    "              'max_depth': [2, 10, 20], \n",
    "              'min_samples_leaf': [1, 5, 10],\n",
    "              'max_features':[None, 'auto'], \n",
    "              'max_leaf_nodes':[None, 10, 50]}\n",
    "\n",
    "gridsearch = GridSearchCV(clf, params, scoring='roc_auc', cv=5, return_train_score=True)\n",
    "\n",
    "%time gridsearch.fit(X, y)"
   ]
  },
  {
   "cell_type": "code",
   "execution_count": 10,
   "metadata": {},
   "outputs": [
    {
     "data": {
      "text/plain": [
       "{'criterion': 'gini',\n",
       " 'max_depth': 20,\n",
       " 'max_features': 'auto',\n",
       " 'max_leaf_nodes': 50,\n",
       " 'min_samples_leaf': 5}"
      ]
     },
     "execution_count": 10,
     "metadata": {},
     "output_type": "execute_result"
    },
    {
     "data": {
      "text/plain": [
       "0.9391163345338136"
      ]
     },
     "execution_count": 10,
     "metadata": {},
     "output_type": "execute_result"
    },
    {
     "data": {
      "text/plain": [
       "DecisionTreeClassifier(max_depth=20, max_features='auto', max_leaf_nodes=50,\n",
       "                       min_samples_leaf=5, random_state=42)"
      ]
     },
     "execution_count": 10,
     "metadata": {},
     "output_type": "execute_result"
    }
   ],
   "source": [
    "gridsearch.best_params_\n",
    "gridsearch.best_score_\n",
    "gridsearch.best_estimator_"
   ]
  },
  {
   "cell_type": "code",
   "execution_count": 11,
   "metadata": {},
   "outputs": [
    {
     "data": {
      "text/html": [
       "<div>\n",
       "<style scoped>\n",
       "    .dataframe tbody tr th:only-of-type {\n",
       "        vertical-align: middle;\n",
       "    }\n",
       "\n",
       "    .dataframe tbody tr th {\n",
       "        vertical-align: top;\n",
       "    }\n",
       "\n",
       "    .dataframe thead th {\n",
       "        text-align: right;\n",
       "    }\n",
       "</style>\n",
       "<table border=\"1\" class=\"dataframe\">\n",
       "  <thead>\n",
       "    <tr style=\"text-align: right;\">\n",
       "      <th></th>\n",
       "      <th>criterion</th>\n",
       "      <th>max_depth</th>\n",
       "      <th>max_features</th>\n",
       "      <th>max_leaf_nodes</th>\n",
       "      <th>min_samples_leaf</th>\n",
       "      <th>mean_fit_time</th>\n",
       "      <th>mean_score_time</th>\n",
       "      <th>mean_train_score</th>\n",
       "      <th>std_train_score</th>\n",
       "      <th>mean_test_score</th>\n",
       "      <th>std_test_score</th>\n",
       "      <th>rank_test_score</th>\n",
       "    </tr>\n",
       "  </thead>\n",
       "  <tbody>\n",
       "    <tr>\n",
       "      <th>52</th>\n",
       "      <td>gini</td>\n",
       "      <td>20</td>\n",
       "      <td>auto</td>\n",
       "      <td>50.0</td>\n",
       "      <td>5</td>\n",
       "      <td>0.000800</td>\n",
       "      <td>0.001000</td>\n",
       "      <td>0.986342</td>\n",
       "      <td>0.001037</td>\n",
       "      <td>0.939116</td>\n",
       "      <td>0.017479</td>\n",
       "      <td>1</td>\n",
       "    </tr>\n",
       "    <tr>\n",
       "      <th>26</th>\n",
       "      <td>gini</td>\n",
       "      <td>10</td>\n",
       "      <td>None</td>\n",
       "      <td>50.0</td>\n",
       "      <td>10</td>\n",
       "      <td>0.001214</td>\n",
       "      <td>0.000812</td>\n",
       "      <td>0.979327</td>\n",
       "      <td>0.002067</td>\n",
       "      <td>0.938637</td>\n",
       "      <td>0.014886</td>\n",
       "      <td>2</td>\n",
       "    </tr>\n",
       "    <tr>\n",
       "      <th>44</th>\n",
       "      <td>gini</td>\n",
       "      <td>20</td>\n",
       "      <td>None</td>\n",
       "      <td>50.0</td>\n",
       "      <td>10</td>\n",
       "      <td>0.000807</td>\n",
       "      <td>0.000991</td>\n",
       "      <td>0.979327</td>\n",
       "      <td>0.002067</td>\n",
       "      <td>0.938637</td>\n",
       "      <td>0.014886</td>\n",
       "      <td>2</td>\n",
       "    </tr>\n",
       "    <tr>\n",
       "      <th>20</th>\n",
       "      <td>gini</td>\n",
       "      <td>10</td>\n",
       "      <td>None</td>\n",
       "      <td>NaN</td>\n",
       "      <td>10</td>\n",
       "      <td>0.000800</td>\n",
       "      <td>0.001399</td>\n",
       "      <td>0.979327</td>\n",
       "      <td>0.002067</td>\n",
       "      <td>0.938557</td>\n",
       "      <td>0.014907</td>\n",
       "      <td>4</td>\n",
       "    </tr>\n",
       "    <tr>\n",
       "      <th>38</th>\n",
       "      <td>gini</td>\n",
       "      <td>20</td>\n",
       "      <td>None</td>\n",
       "      <td>NaN</td>\n",
       "      <td>10</td>\n",
       "      <td>0.001402</td>\n",
       "      <td>0.001007</td>\n",
       "      <td>0.979327</td>\n",
       "      <td>0.002067</td>\n",
       "      <td>0.938557</td>\n",
       "      <td>0.014907</td>\n",
       "      <td>4</td>\n",
       "    </tr>\n",
       "    <tr>\n",
       "      <th>...</th>\n",
       "      <td>...</td>\n",
       "      <td>...</td>\n",
       "      <td>...</td>\n",
       "      <td>...</td>\n",
       "      <td>...</td>\n",
       "      <td>...</td>\n",
       "      <td>...</td>\n",
       "      <td>...</td>\n",
       "      <td>...</td>\n",
       "      <td>...</td>\n",
       "      <td>...</td>\n",
       "      <td>...</td>\n",
       "    </tr>\n",
       "    <tr>\n",
       "      <th>18</th>\n",
       "      <td>gini</td>\n",
       "      <td>10</td>\n",
       "      <td>None</td>\n",
       "      <td>NaN</td>\n",
       "      <td>1</td>\n",
       "      <td>0.000800</td>\n",
       "      <td>0.001000</td>\n",
       "      <td>0.998937</td>\n",
       "      <td>0.001281</td>\n",
       "      <td>0.868551</td>\n",
       "      <td>0.016339</td>\n",
       "      <td>104</td>\n",
       "    </tr>\n",
       "    <tr>\n",
       "      <th>36</th>\n",
       "      <td>gini</td>\n",
       "      <td>20</td>\n",
       "      <td>None</td>\n",
       "      <td>NaN</td>\n",
       "      <td>1</td>\n",
       "      <td>0.001199</td>\n",
       "      <td>0.001201</td>\n",
       "      <td>1.000000</td>\n",
       "      <td>0.000000</td>\n",
       "      <td>0.868271</td>\n",
       "      <td>0.015107</td>\n",
       "      <td>105</td>\n",
       "    </tr>\n",
       "    <tr>\n",
       "      <th>33</th>\n",
       "      <td>gini</td>\n",
       "      <td>10</td>\n",
       "      <td>auto</td>\n",
       "      <td>50.0</td>\n",
       "      <td>1</td>\n",
       "      <td>0.000792</td>\n",
       "      <td>0.000997</td>\n",
       "      <td>0.997142</td>\n",
       "      <td>0.001937</td>\n",
       "      <td>0.864549</td>\n",
       "      <td>0.016555</td>\n",
       "      <td>106</td>\n",
       "    </tr>\n",
       "    <tr>\n",
       "      <th>51</th>\n",
       "      <td>gini</td>\n",
       "      <td>20</td>\n",
       "      <td>auto</td>\n",
       "      <td>50.0</td>\n",
       "      <td>1</td>\n",
       "      <td>0.000999</td>\n",
       "      <td>0.001001</td>\n",
       "      <td>0.998952</td>\n",
       "      <td>0.000841</td>\n",
       "      <td>0.855110</td>\n",
       "      <td>0.021121</td>\n",
       "      <td>107</td>\n",
       "    </tr>\n",
       "    <tr>\n",
       "      <th>87</th>\n",
       "      <td>entropy</td>\n",
       "      <td>10</td>\n",
       "      <td>auto</td>\n",
       "      <td>50.0</td>\n",
       "      <td>1</td>\n",
       "      <td>0.001002</td>\n",
       "      <td>0.000798</td>\n",
       "      <td>0.997810</td>\n",
       "      <td>0.002313</td>\n",
       "      <td>0.852150</td>\n",
       "      <td>0.034615</td>\n",
       "      <td>108</td>\n",
       "    </tr>\n",
       "  </tbody>\n",
       "</table>\n",
       "<p>108 rows × 12 columns</p>\n",
       "</div>"
      ],
      "text/plain": [
       "   criterion  max_depth max_features  max_leaf_nodes  min_samples_leaf  \\\n",
       "52      gini         20         auto            50.0                 5   \n",
       "26      gini         10         None            50.0                10   \n",
       "44      gini         20         None            50.0                10   \n",
       "20      gini         10         None             NaN                10   \n",
       "38      gini         20         None             NaN                10   \n",
       "..       ...        ...          ...             ...               ...   \n",
       "18      gini         10         None             NaN                 1   \n",
       "36      gini         20         None             NaN                 1   \n",
       "33      gini         10         auto            50.0                 1   \n",
       "51      gini         20         auto            50.0                 1   \n",
       "87   entropy         10         auto            50.0                 1   \n",
       "\n",
       "    mean_fit_time  mean_score_time  mean_train_score  std_train_score  \\\n",
       "52       0.000800         0.001000          0.986342         0.001037   \n",
       "26       0.001214         0.000812          0.979327         0.002067   \n",
       "44       0.000807         0.000991          0.979327         0.002067   \n",
       "20       0.000800         0.001399          0.979327         0.002067   \n",
       "38       0.001402         0.001007          0.979327         0.002067   \n",
       "..            ...              ...               ...              ...   \n",
       "18       0.000800         0.001000          0.998937         0.001281   \n",
       "36       0.001199         0.001201          1.000000         0.000000   \n",
       "33       0.000792         0.000997          0.997142         0.001937   \n",
       "51       0.000999         0.001001          0.998952         0.000841   \n",
       "87       0.001002         0.000798          0.997810         0.002313   \n",
       "\n",
       "    mean_test_score  std_test_score  rank_test_score  \n",
       "52         0.939116        0.017479                1  \n",
       "26         0.938637        0.014886                2  \n",
       "44         0.938637        0.014886                2  \n",
       "20         0.938557        0.014907                4  \n",
       "38         0.938557        0.014907                4  \n",
       "..              ...             ...              ...  \n",
       "18         0.868551        0.016339              104  \n",
       "36         0.868271        0.015107              105  \n",
       "33         0.864549        0.016555              106  \n",
       "51         0.855110        0.021121              107  \n",
       "87         0.852150        0.034615              108  \n",
       "\n",
       "[108 rows x 12 columns]"
      ]
     },
     "execution_count": 11,
     "metadata": {},
     "output_type": "execute_result"
    }
   ],
   "source": [
    "# Print out the results of hyperparmater tuning in a nice table.\n",
    "\n",
    "def cv_results_to_df(cv_results):\n",
    "    results = pd.DataFrame(list(cv_results['params']))\n",
    "    results['mean_fit_time'] = cv_results['mean_fit_time']\n",
    "    results['mean_score_time'] = cv_results['mean_score_time']\n",
    "    results['mean_train_score'] = cv_results['mean_train_score']\n",
    "    results['std_train_score'] = cv_results['std_train_score']\n",
    "    results['mean_test_score'] = cv_results['mean_test_score']\n",
    "    results['std_test_score'] = cv_results['std_test_score']\n",
    "    results['rank_test_score'] = cv_results['rank_test_score']\n",
    "\n",
    "    results = results.sort_values(['mean_test_score'], ascending=False)\n",
    "    return results\n",
    "\n",
    "cv_results_to_df(gridsearch.cv_results_)"
   ]
  },
  {
   "cell_type": "markdown",
   "metadata": {},
   "source": [
    "### Random Search"
   ]
  },
  {
   "cell_type": "code",
   "execution_count": 12,
   "metadata": {},
   "outputs": [
    {
     "name": "stdout",
     "output_type": "stream",
     "text": [
      "Wall time: 4.53 s\n"
     ]
    },
    {
     "data": {
      "text/plain": [
       "RandomizedSearchCV(cv=5, estimator=DecisionTreeClassifier(random_state=42),\n",
       "                   n_iter=500,\n",
       "                   param_distributions={'criterion': ['gini', 'entropy'],\n",
       "                                        'max_depth': <scipy.stats._distn_infrastructure.rv_frozen object at 0x00000240045FC940>,\n",
       "                                        'max_features': <scipy.stats._distn_infrastructure.rv_frozen object at 0x00000240045FCDA0>,\n",
       "                                        'max_leaf_nodes': <scipy.stats._distn_infrastructure.rv_frozen object at 0x000002407F5D0EB8>,\n",
       "                                        'min_samples_leaf': <scipy.stats._distn_infrastructure.rv_frozen object at 0x00000240045FCE10>},\n",
       "                   return_train_score=True)"
      ]
     },
     "execution_count": 12,
     "metadata": {},
     "output_type": "execute_result"
    }
   ],
   "source": [
    "from sklearn.model_selection import RandomizedSearchCV\n",
    "from scipy.stats import randint as sp_randint\n",
    "\n",
    "params_random = {\"criterion\": [\"gini\", \"entropy\"],\n",
    "               \"max_depth\": sp_randint(2, 21),\n",
    "               \"min_samples_leaf\": sp_randint(1, 11),\n",
    "               \"max_features\": sp_randint(1, 3),\n",
    "               \"max_leaf_nodes\": sp_randint(10, 100),\n",
    "              }\n",
    "\n",
    "randomsearch = RandomizedSearchCV(clf, param_distributions=params_random, \n",
    "                                  cv=5, return_train_score=True, n_iter=500);\n",
    "%time randomsearch.fit(X_train, y_train);"
   ]
  },
  {
   "cell_type": "code",
   "execution_count": 13,
   "metadata": {},
   "outputs": [
    {
     "data": {
      "text/html": [
       "<div>\n",
       "<style scoped>\n",
       "    .dataframe tbody tr th:only-of-type {\n",
       "        vertical-align: middle;\n",
       "    }\n",
       "\n",
       "    .dataframe tbody tr th {\n",
       "        vertical-align: top;\n",
       "    }\n",
       "\n",
       "    .dataframe thead th {\n",
       "        text-align: right;\n",
       "    }\n",
       "</style>\n",
       "<table border=\"1\" class=\"dataframe\">\n",
       "  <thead>\n",
       "    <tr style=\"text-align: right;\">\n",
       "      <th></th>\n",
       "      <th>criterion</th>\n",
       "      <th>max_depth</th>\n",
       "      <th>max_features</th>\n",
       "      <th>max_leaf_nodes</th>\n",
       "      <th>min_samples_leaf</th>\n",
       "      <th>mean_fit_time</th>\n",
       "      <th>mean_score_time</th>\n",
       "      <th>mean_train_score</th>\n",
       "      <th>std_train_score</th>\n",
       "      <th>mean_test_score</th>\n",
       "      <th>std_test_score</th>\n",
       "      <th>rank_test_score</th>\n",
       "    </tr>\n",
       "  </thead>\n",
       "  <tbody>\n",
       "    <tr>\n",
       "      <th>352</th>\n",
       "      <td>gini</td>\n",
       "      <td>4</td>\n",
       "      <td>2</td>\n",
       "      <td>99</td>\n",
       "      <td>7</td>\n",
       "      <td>0.001000</td>\n",
       "      <td>0.000000</td>\n",
       "      <td>0.923125</td>\n",
       "      <td>0.012119</td>\n",
       "      <td>0.9075</td>\n",
       "      <td>0.028062</td>\n",
       "      <td>1</td>\n",
       "    </tr>\n",
       "    <tr>\n",
       "      <th>148</th>\n",
       "      <td>gini</td>\n",
       "      <td>4</td>\n",
       "      <td>2</td>\n",
       "      <td>71</td>\n",
       "      <td>7</td>\n",
       "      <td>0.000400</td>\n",
       "      <td>0.000407</td>\n",
       "      <td>0.923125</td>\n",
       "      <td>0.012119</td>\n",
       "      <td>0.9075</td>\n",
       "      <td>0.028062</td>\n",
       "      <td>1</td>\n",
       "    </tr>\n",
       "    <tr>\n",
       "      <th>0</th>\n",
       "      <td>gini</td>\n",
       "      <td>10</td>\n",
       "      <td>2</td>\n",
       "      <td>73</td>\n",
       "      <td>10</td>\n",
       "      <td>0.000400</td>\n",
       "      <td>0.000400</td>\n",
       "      <td>0.916250</td>\n",
       "      <td>0.008705</td>\n",
       "      <td>0.9075</td>\n",
       "      <td>0.029155</td>\n",
       "      <td>3</td>\n",
       "    </tr>\n",
       "    <tr>\n",
       "      <th>162</th>\n",
       "      <td>gini</td>\n",
       "      <td>20</td>\n",
       "      <td>1</td>\n",
       "      <td>40</td>\n",
       "      <td>8</td>\n",
       "      <td>0.000994</td>\n",
       "      <td>0.000000</td>\n",
       "      <td>0.923125</td>\n",
       "      <td>0.012437</td>\n",
       "      <td>0.9075</td>\n",
       "      <td>0.035882</td>\n",
       "      <td>3</td>\n",
       "    </tr>\n",
       "    <tr>\n",
       "      <th>252</th>\n",
       "      <td>gini</td>\n",
       "      <td>8</td>\n",
       "      <td>2</td>\n",
       "      <td>54</td>\n",
       "      <td>9</td>\n",
       "      <td>0.001000</td>\n",
       "      <td>0.000199</td>\n",
       "      <td>0.916250</td>\n",
       "      <td>0.008705</td>\n",
       "      <td>0.9075</td>\n",
       "      <td>0.029155</td>\n",
       "      <td>3</td>\n",
       "    </tr>\n",
       "    <tr>\n",
       "      <th>...</th>\n",
       "      <td>...</td>\n",
       "      <td>...</td>\n",
       "      <td>...</td>\n",
       "      <td>...</td>\n",
       "      <td>...</td>\n",
       "      <td>...</td>\n",
       "      <td>...</td>\n",
       "      <td>...</td>\n",
       "      <td>...</td>\n",
       "      <td>...</td>\n",
       "      <td>...</td>\n",
       "      <td>...</td>\n",
       "    </tr>\n",
       "    <tr>\n",
       "      <th>23</th>\n",
       "      <td>gini</td>\n",
       "      <td>15</td>\n",
       "      <td>1</td>\n",
       "      <td>75</td>\n",
       "      <td>2</td>\n",
       "      <td>0.000800</td>\n",
       "      <td>0.000000</td>\n",
       "      <td>0.948125</td>\n",
       "      <td>0.007552</td>\n",
       "      <td>0.8500</td>\n",
       "      <td>0.023717</td>\n",
       "      <td>492</td>\n",
       "    </tr>\n",
       "    <tr>\n",
       "      <th>99</th>\n",
       "      <td>gini</td>\n",
       "      <td>11</td>\n",
       "      <td>1</td>\n",
       "      <td>45</td>\n",
       "      <td>2</td>\n",
       "      <td>0.000600</td>\n",
       "      <td>0.000200</td>\n",
       "      <td>0.946875</td>\n",
       "      <td>0.008615</td>\n",
       "      <td>0.8500</td>\n",
       "      <td>0.023717</td>\n",
       "      <td>492</td>\n",
       "    </tr>\n",
       "    <tr>\n",
       "      <th>346</th>\n",
       "      <td>gini</td>\n",
       "      <td>15</td>\n",
       "      <td>1</td>\n",
       "      <td>97</td>\n",
       "      <td>2</td>\n",
       "      <td>0.000600</td>\n",
       "      <td>0.000400</td>\n",
       "      <td>0.948125</td>\n",
       "      <td>0.007552</td>\n",
       "      <td>0.8500</td>\n",
       "      <td>0.023717</td>\n",
       "      <td>492</td>\n",
       "    </tr>\n",
       "    <tr>\n",
       "      <th>18</th>\n",
       "      <td>entropy</td>\n",
       "      <td>14</td>\n",
       "      <td>2</td>\n",
       "      <td>82</td>\n",
       "      <td>1</td>\n",
       "      <td>0.001199</td>\n",
       "      <td>0.000600</td>\n",
       "      <td>0.997500</td>\n",
       "      <td>0.001250</td>\n",
       "      <td>0.8500</td>\n",
       "      <td>0.054772</td>\n",
       "      <td>492</td>\n",
       "    </tr>\n",
       "    <tr>\n",
       "      <th>404</th>\n",
       "      <td>entropy</td>\n",
       "      <td>13</td>\n",
       "      <td>2</td>\n",
       "      <td>44</td>\n",
       "      <td>1</td>\n",
       "      <td>0.002599</td>\n",
       "      <td>0.000600</td>\n",
       "      <td>0.996250</td>\n",
       "      <td>0.002339</td>\n",
       "      <td>0.8500</td>\n",
       "      <td>0.054772</td>\n",
       "      <td>492</td>\n",
       "    </tr>\n",
       "  </tbody>\n",
       "</table>\n",
       "<p>500 rows × 12 columns</p>\n",
       "</div>"
      ],
      "text/plain": [
       "    criterion  max_depth  max_features  max_leaf_nodes  min_samples_leaf  \\\n",
       "352      gini          4             2              99                 7   \n",
       "148      gini          4             2              71                 7   \n",
       "0        gini         10             2              73                10   \n",
       "162      gini         20             1              40                 8   \n",
       "252      gini          8             2              54                 9   \n",
       "..        ...        ...           ...             ...               ...   \n",
       "23       gini         15             1              75                 2   \n",
       "99       gini         11             1              45                 2   \n",
       "346      gini         15             1              97                 2   \n",
       "18    entropy         14             2              82                 1   \n",
       "404   entropy         13             2              44                 1   \n",
       "\n",
       "     mean_fit_time  mean_score_time  mean_train_score  std_train_score  \\\n",
       "352       0.001000         0.000000          0.923125         0.012119   \n",
       "148       0.000400         0.000407          0.923125         0.012119   \n",
       "0         0.000400         0.000400          0.916250         0.008705   \n",
       "162       0.000994         0.000000          0.923125         0.012437   \n",
       "252       0.001000         0.000199          0.916250         0.008705   \n",
       "..             ...              ...               ...              ...   \n",
       "23        0.000800         0.000000          0.948125         0.007552   \n",
       "99        0.000600         0.000200          0.946875         0.008615   \n",
       "346       0.000600         0.000400          0.948125         0.007552   \n",
       "18        0.001199         0.000600          0.997500         0.001250   \n",
       "404       0.002599         0.000600          0.996250         0.002339   \n",
       "\n",
       "     mean_test_score  std_test_score  rank_test_score  \n",
       "352           0.9075        0.028062                1  \n",
       "148           0.9075        0.028062                1  \n",
       "0             0.9075        0.029155                3  \n",
       "162           0.9075        0.035882                3  \n",
       "252           0.9075        0.029155                3  \n",
       "..               ...             ...              ...  \n",
       "23            0.8500        0.023717              492  \n",
       "99            0.8500        0.023717              492  \n",
       "346           0.8500        0.023717              492  \n",
       "18            0.8500        0.054772              492  \n",
       "404           0.8500        0.054772              492  \n",
       "\n",
       "[500 rows x 12 columns]"
      ]
     },
     "execution_count": 13,
     "metadata": {},
     "output_type": "execute_result"
    }
   ],
   "source": [
    "cv_results_to_df(randomsearch.cv_results_)"
   ]
  },
  {
   "cell_type": "code",
   "execution_count": null,
   "metadata": {},
   "outputs": [],
   "source": []
  }
 ],
 "metadata": {
  "kernelspec": {
   "display_name": "small_sklearn_kernel",
   "language": "python",
   "name": "small_sklearn_kernel"
  },
  "language_info": {
   "codemirror_mode": {
    "name": "ipython",
    "version": 3
   },
   "file_extension": ".py",
   "mimetype": "text/x-python",
   "name": "python",
   "nbconvert_exporter": "python",
   "pygments_lexer": "ipython3",
   "version": "3.6.10"
  }
 },
 "nbformat": 4,
 "nbformat_minor": 4
}
