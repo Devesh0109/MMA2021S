{
 "cells": [
  {
   "cell_type": "markdown",
   "metadata": {},
   "source": [
    "# Playground for Advanced Topics Slides\n",
    "\n",
    "- Stephen W. Thomas\n",
    "- Used for MMA 869, MMAI 869, and GMMA 869"
   ]
  },
  {
   "cell_type": "code",
   "execution_count": null,
   "metadata": {},
   "outputs": [],
   "source": [
    "import datetime\n",
    "print(datetime.datetime.now())"
   ]
  },
  {
   "cell_type": "code",
   "execution_count": 2,
   "metadata": {},
   "outputs": [
    {
     "data": {
      "text/plain": [
       "'0.23.1'"
      ]
     },
     "execution_count": 2,
     "metadata": {},
     "output_type": "execute_result"
    }
   ],
   "source": [
    "import sklearn\n",
    "sklearn.__version__"
   ]
  },
  {
   "cell_type": "code",
   "execution_count": 3,
   "metadata": {},
   "outputs": [],
   "source": [
    "import pandas as pd\n",
    "import numpy as np\n",
    "\n",
    "import matplotlib.pyplot as plt\n",
    "\n",
    "from IPython.core.interactiveshell import InteractiveShell\n",
    "InteractiveShell.ast_node_interactivity = \"all\""
   ]
  },
  {
   "cell_type": "markdown",
   "metadata": {},
   "source": [
    "# Load Data"
   ]
  },
  {
   "cell_type": "code",
   "execution_count": 13,
   "metadata": {},
   "outputs": [
    {
     "name": "stdout",
     "output_type": "stream",
     "text": [
      "<class 'pandas.core.frame.DataFrame'>\n",
      "RangeIndex: 1000 entries, 0 to 999\n",
      "Data columns (total 62 columns):\n",
      " #   Column                                  Non-Null Count  Dtype\n",
      "---  ------                                  --------------  -----\n",
      " 0   Duration                                1000 non-null   int64\n",
      " 1   Amount                                  1000 non-null   int64\n",
      " 2   InstallmentRatePercentage               1000 non-null   int64\n",
      " 3   ResidenceDuration                       1000 non-null   int64\n",
      " 4   Age                                     1000 non-null   int64\n",
      " 5   NumberExistingCredits                   1000 non-null   int64\n",
      " 6   NumberPeopleMaintenance                 1000 non-null   int64\n",
      " 7   Telephone                               1000 non-null   int64\n",
      " 8   ForeignWorker                           1000 non-null   int64\n",
      " 9   Class                                   1000 non-null   int64\n",
      " 10  CheckingAccountStatus.lt.0              1000 non-null   int64\n",
      " 11  CheckingAccountStatus.0.to.200          1000 non-null   int64\n",
      " 12  CheckingAccountStatus.gt.200            1000 non-null   int64\n",
      " 13  CheckingAccountStatus.none              1000 non-null   int64\n",
      " 14  CreditHistory.NoCredit.AllPaid          1000 non-null   int64\n",
      " 15  CreditHistory.ThisBank.AllPaid          1000 non-null   int64\n",
      " 16  CreditHistory.PaidDuly                  1000 non-null   int64\n",
      " 17  CreditHistory.Delay                     1000 non-null   int64\n",
      " 18  CreditHistory.Critical                  1000 non-null   int64\n",
      " 19  Purpose.NewCar                          1000 non-null   int64\n",
      " 20  Purpose.UsedCar                         1000 non-null   int64\n",
      " 21  Purpose.Furniture.Equipment             1000 non-null   int64\n",
      " 22  Purpose.Radio.Television                1000 non-null   int64\n",
      " 23  Purpose.DomesticAppliance               1000 non-null   int64\n",
      " 24  Purpose.Repairs                         1000 non-null   int64\n",
      " 25  Purpose.Education                       1000 non-null   int64\n",
      " 26  Purpose.Vacation                        1000 non-null   int64\n",
      " 27  Purpose.Retraining                      1000 non-null   int64\n",
      " 28  Purpose.Business                        1000 non-null   int64\n",
      " 29  Purpose.Other                           1000 non-null   int64\n",
      " 30  SavingsAccountBonds.lt.100              1000 non-null   int64\n",
      " 31  SavingsAccountBonds.100.to.500          1000 non-null   int64\n",
      " 32  SavingsAccountBonds.500.to.1000         1000 non-null   int64\n",
      " 33  SavingsAccountBonds.gt.1000             1000 non-null   int64\n",
      " 34  SavingsAccountBonds.Unknown             1000 non-null   int64\n",
      " 35  EmploymentDuration.lt.1                 1000 non-null   int64\n",
      " 36  EmploymentDuration.1.to.4               1000 non-null   int64\n",
      " 37  EmploymentDuration.4.to.7               1000 non-null   int64\n",
      " 38  EmploymentDuration.gt.7                 1000 non-null   int64\n",
      " 39  EmploymentDuration.Unemployed           1000 non-null   int64\n",
      " 40  Personal.Male.Divorced.Seperated        1000 non-null   int64\n",
      " 41  Personal.Female.NotSingle               1000 non-null   int64\n",
      " 42  Personal.Male.Single                    1000 non-null   int64\n",
      " 43  Personal.Male.Married.Widowed           1000 non-null   int64\n",
      " 44  Personal.Female.Single                  1000 non-null   int64\n",
      " 45  OtherDebtorsGuarantors.None             1000 non-null   int64\n",
      " 46  OtherDebtorsGuarantors.CoApplicant      1000 non-null   int64\n",
      " 47  OtherDebtorsGuarantors.Guarantor        1000 non-null   int64\n",
      " 48  Property.RealEstate                     1000 non-null   int64\n",
      " 49  Property.Insurance                      1000 non-null   int64\n",
      " 50  Property.CarOther                       1000 non-null   int64\n",
      " 51  Property.Unknown                        1000 non-null   int64\n",
      " 52  OtherInstallmentPlans.Bank              1000 non-null   int64\n",
      " 53  OtherInstallmentPlans.Stores            1000 non-null   int64\n",
      " 54  OtherInstallmentPlans.None              1000 non-null   int64\n",
      " 55  Housing.Rent                            1000 non-null   int64\n",
      " 56  Housing.Own                             1000 non-null   int64\n",
      " 57  Housing.ForFree                         1000 non-null   int64\n",
      " 58  Job.UnemployedUnskilled                 1000 non-null   int64\n",
      " 59  Job.UnskilledResident                   1000 non-null   int64\n",
      " 60  Job.SkilledEmployee                     1000 non-null   int64\n",
      " 61  Job.Management.SelfEmp.HighlyQualified  1000 non-null   int64\n",
      "dtypes: int64(62)\n",
      "memory usage: 484.5 KB\n"
     ]
    },
    {
     "data": {
      "text/html": [
       "<div>\n",
       "<style scoped>\n",
       "    .dataframe tbody tr th:only-of-type {\n",
       "        vertical-align: middle;\n",
       "    }\n",
       "\n",
       "    .dataframe tbody tr th {\n",
       "        vertical-align: top;\n",
       "    }\n",
       "\n",
       "    .dataframe thead th {\n",
       "        text-align: right;\n",
       "    }\n",
       "</style>\n",
       "<table border=\"1\" class=\"dataframe\">\n",
       "  <thead>\n",
       "    <tr style=\"text-align: right;\">\n",
       "      <th></th>\n",
       "      <th>Duration</th>\n",
       "      <th>Amount</th>\n",
       "      <th>InstallmentRatePercentage</th>\n",
       "      <th>ResidenceDuration</th>\n",
       "      <th>Age</th>\n",
       "      <th>NumberExistingCredits</th>\n",
       "      <th>NumberPeopleMaintenance</th>\n",
       "      <th>Telephone</th>\n",
       "      <th>ForeignWorker</th>\n",
       "      <th>Class</th>\n",
       "      <th>...</th>\n",
       "      <th>OtherInstallmentPlans.Bank</th>\n",
       "      <th>OtherInstallmentPlans.Stores</th>\n",
       "      <th>OtherInstallmentPlans.None</th>\n",
       "      <th>Housing.Rent</th>\n",
       "      <th>Housing.Own</th>\n",
       "      <th>Housing.ForFree</th>\n",
       "      <th>Job.UnemployedUnskilled</th>\n",
       "      <th>Job.UnskilledResident</th>\n",
       "      <th>Job.SkilledEmployee</th>\n",
       "      <th>Job.Management.SelfEmp.HighlyQualified</th>\n",
       "    </tr>\n",
       "  </thead>\n",
       "  <tbody>\n",
       "    <tr>\n",
       "      <th>0</th>\n",
       "      <td>6</td>\n",
       "      <td>1169</td>\n",
       "      <td>4</td>\n",
       "      <td>4</td>\n",
       "      <td>67</td>\n",
       "      <td>2</td>\n",
       "      <td>1</td>\n",
       "      <td>0</td>\n",
       "      <td>1</td>\n",
       "      <td>1</td>\n",
       "      <td>...</td>\n",
       "      <td>0</td>\n",
       "      <td>0</td>\n",
       "      <td>1</td>\n",
       "      <td>0</td>\n",
       "      <td>1</td>\n",
       "      <td>0</td>\n",
       "      <td>0</td>\n",
       "      <td>0</td>\n",
       "      <td>1</td>\n",
       "      <td>0</td>\n",
       "    </tr>\n",
       "    <tr>\n",
       "      <th>1</th>\n",
       "      <td>48</td>\n",
       "      <td>5951</td>\n",
       "      <td>2</td>\n",
       "      <td>2</td>\n",
       "      <td>22</td>\n",
       "      <td>1</td>\n",
       "      <td>1</td>\n",
       "      <td>1</td>\n",
       "      <td>1</td>\n",
       "      <td>0</td>\n",
       "      <td>...</td>\n",
       "      <td>0</td>\n",
       "      <td>0</td>\n",
       "      <td>1</td>\n",
       "      <td>0</td>\n",
       "      <td>1</td>\n",
       "      <td>0</td>\n",
       "      <td>0</td>\n",
       "      <td>0</td>\n",
       "      <td>1</td>\n",
       "      <td>0</td>\n",
       "    </tr>\n",
       "    <tr>\n",
       "      <th>2</th>\n",
       "      <td>12</td>\n",
       "      <td>2096</td>\n",
       "      <td>2</td>\n",
       "      <td>3</td>\n",
       "      <td>49</td>\n",
       "      <td>1</td>\n",
       "      <td>2</td>\n",
       "      <td>1</td>\n",
       "      <td>1</td>\n",
       "      <td>1</td>\n",
       "      <td>...</td>\n",
       "      <td>0</td>\n",
       "      <td>0</td>\n",
       "      <td>1</td>\n",
       "      <td>0</td>\n",
       "      <td>1</td>\n",
       "      <td>0</td>\n",
       "      <td>0</td>\n",
       "      <td>1</td>\n",
       "      <td>0</td>\n",
       "      <td>0</td>\n",
       "    </tr>\n",
       "    <tr>\n",
       "      <th>3</th>\n",
       "      <td>42</td>\n",
       "      <td>7882</td>\n",
       "      <td>2</td>\n",
       "      <td>4</td>\n",
       "      <td>45</td>\n",
       "      <td>1</td>\n",
       "      <td>2</td>\n",
       "      <td>1</td>\n",
       "      <td>1</td>\n",
       "      <td>1</td>\n",
       "      <td>...</td>\n",
       "      <td>0</td>\n",
       "      <td>0</td>\n",
       "      <td>1</td>\n",
       "      <td>0</td>\n",
       "      <td>0</td>\n",
       "      <td>1</td>\n",
       "      <td>0</td>\n",
       "      <td>0</td>\n",
       "      <td>1</td>\n",
       "      <td>0</td>\n",
       "    </tr>\n",
       "    <tr>\n",
       "      <th>4</th>\n",
       "      <td>24</td>\n",
       "      <td>4870</td>\n",
       "      <td>3</td>\n",
       "      <td>4</td>\n",
       "      <td>53</td>\n",
       "      <td>2</td>\n",
       "      <td>2</td>\n",
       "      <td>1</td>\n",
       "      <td>1</td>\n",
       "      <td>0</td>\n",
       "      <td>...</td>\n",
       "      <td>0</td>\n",
       "      <td>0</td>\n",
       "      <td>1</td>\n",
       "      <td>0</td>\n",
       "      <td>0</td>\n",
       "      <td>1</td>\n",
       "      <td>0</td>\n",
       "      <td>0</td>\n",
       "      <td>1</td>\n",
       "      <td>0</td>\n",
       "    </tr>\n",
       "  </tbody>\n",
       "</table>\n",
       "<p>5 rows × 62 columns</p>\n",
       "</div>"
      ],
      "text/plain": [
       "   Duration  Amount  InstallmentRatePercentage  ResidenceDuration  Age  \\\n",
       "0         6    1169                          4                  4   67   \n",
       "1        48    5951                          2                  2   22   \n",
       "2        12    2096                          2                  3   49   \n",
       "3        42    7882                          2                  4   45   \n",
       "4        24    4870                          3                  4   53   \n",
       "\n",
       "   NumberExistingCredits  NumberPeopleMaintenance  Telephone  ForeignWorker  \\\n",
       "0                      2                        1          0              1   \n",
       "1                      1                        1          1              1   \n",
       "2                      1                        2          1              1   \n",
       "3                      1                        2          1              1   \n",
       "4                      2                        2          1              1   \n",
       "\n",
       "   Class  ...  OtherInstallmentPlans.Bank  OtherInstallmentPlans.Stores  \\\n",
       "0      1  ...                           0                             0   \n",
       "1      0  ...                           0                             0   \n",
       "2      1  ...                           0                             0   \n",
       "3      1  ...                           0                             0   \n",
       "4      0  ...                           0                             0   \n",
       "\n",
       "   OtherInstallmentPlans.None  Housing.Rent  Housing.Own  Housing.ForFree  \\\n",
       "0                           1             0            1                0   \n",
       "1                           1             0            1                0   \n",
       "2                           1             0            1                0   \n",
       "3                           1             0            0                1   \n",
       "4                           1             0            0                1   \n",
       "\n",
       "   Job.UnemployedUnskilled  Job.UnskilledResident  Job.SkilledEmployee  \\\n",
       "0                        0                      0                    1   \n",
       "1                        0                      0                    1   \n",
       "2                        0                      1                    0   \n",
       "3                        0                      0                    1   \n",
       "4                        0                      0                    1   \n",
       "\n",
       "   Job.Management.SelfEmp.HighlyQualified  \n",
       "0                                       0  \n",
       "1                                       0  \n",
       "2                                       0  \n",
       "3                                       0  \n",
       "4                                       0  \n",
       "\n",
       "[5 rows x 62 columns]"
      ]
     },
     "execution_count": 13,
     "metadata": {},
     "output_type": "execute_result"
    }
   ],
   "source": [
    "df = pd.read_csv('../data/GermanCredit.csv')\n",
    "df['Class'] = df['Class'].map({'Good': 1, 'Bad': 0})\n",
    "df.info()\n",
    "df.head()"
   ]
  },
  {
   "cell_type": "code",
   "execution_count": 14,
   "metadata": {},
   "outputs": [],
   "source": [
    "from sklearn.model_selection import train_test_split\n",
    "\n",
    "X = df.drop(['Class'], axis=1)\n",
    "y = df[['Class']]\n",
    "\n",
    "X_train, X_test, y_train, y_test = train_test_split(X, y, test_size=0.2, random_state=42)"
   ]
  },
  {
   "cell_type": "markdown",
   "metadata": {},
   "source": [
    "# Feature Selection"
   ]
  },
  {
   "cell_type": "code",
   "execution_count": 15,
   "metadata": {},
   "outputs": [],
   "source": [
    "from sklearn.metrics import accuracy_score, cohen_kappa_score, f1_score, log_loss, confusion_matrix\n",
    "from sklearn.tree import DecisionTreeClassifier\n",
    "\n",
    "# Helper function\n",
    "def evaluate_with_dt(X_train, X_test, y_train, y_test):\n",
    "    clf_full = DecisionTreeClassifier(random_state=0)\n",
    "    clf_full.fit(X_train, y_train)\n",
    "    y_pred_dt = clf_full.predict(X_test)\n",
    "    print (\"\\n Confusion Matrix : \\n\", confusion_matrix(y_test, y_pred_dt))\n",
    "    print(\"Accuracy = {:.2f}\".format(accuracy_score(y_test, y_pred_dt)))\n",
    "    print(\"F1 Score = {:.2f}\".format(f1_score(y_test, y_pred_dt)))\n",
    "    print(\"Kappa = {:.2f}\".format(cohen_kappa_score(y_test, y_pred_dt)))\n",
    "    print(\"Log Loss = {:.2f}\".format(log_loss(y_test, y_pred_dt)))"
   ]
  },
  {
   "cell_type": "code",
   "execution_count": 16,
   "metadata": {},
   "outputs": [
    {
     "name": "stdout",
     "output_type": "stream",
     "text": [
      "\n",
      " Confusion Matrix : \n",
      " [[ 29  30]\n",
      " [ 34 107]]\n",
      "Accuracy = 0.68\n",
      "F1 Score = 0.77\n",
      "Kappa = 0.25\n",
      "Log Loss = 11.05\n"
     ]
    }
   ],
   "source": [
    "evaluate_with_dt(X_train, X_test, y_train['Class'], y_test['Class'])"
   ]
  },
  {
   "cell_type": "markdown",
   "metadata": {},
   "source": [
    "## Variance Threshold (Filter Method, Unsupervised)"
   ]
  },
  {
   "cell_type": "code",
   "execution_count": 17,
   "metadata": {},
   "outputs": [
    {
     "data": {
      "text/plain": [
       "(800, 61)"
      ]
     },
     "execution_count": 17,
     "metadata": {},
     "output_type": "execute_result"
    }
   ],
   "source": [
    "X_train.shape"
   ]
  },
  {
   "cell_type": "code",
   "execution_count": 18,
   "metadata": {},
   "outputs": [],
   "source": [
    "from sklearn.feature_selection import VarianceThreshold\n",
    "sel = VarianceThreshold(threshold=(0.1));\n",
    "sel.fit(X_train);"
   ]
  },
  {
   "cell_type": "code",
   "execution_count": 19,
   "metadata": {},
   "outputs": [
    {
     "data": {
      "text/plain": [
       "array([1.39235975e+02, 8.38891826e+06, 1.25877500e+00, 1.22011094e+00,\n",
       "       1.30061548e+02, 3.34623437e-01, 1.23085937e-01, 2.43600000e-01,\n",
       "       3.37750000e-02, 1.95943750e-01, 1.95943750e-01, 5.74984375e-02,\n",
       "       2.40735937e-01, 4.18359375e-02, 4.52437500e-02, 2.49375000e-01,\n",
       "       8.29234375e-02, 2.06943750e-01, 1.81093750e-01, 9.39750000e-02,\n",
       "       1.41923437e-01, 2.02693750e-01, 1.35609375e-02, 2.31859375e-02,\n",
       "       4.41109375e-02, 0.00000000e+00, 8.67343750e-03, 8.89984375e-02,\n",
       "       1.23437500e-02, 2.41443750e-01, 9.19937500e-02, 6.51000000e-02,\n",
       "       4.63734375e-02, 1.51560938e-01, 1.39443750e-01, 2.23593750e-01,\n",
       "       1.44375000e-01, 1.88743750e-01, 6.29437500e-02, 4.06937500e-02,\n",
       "       2.16693750e-01, 2.47500000e-01, 8.19000000e-02, 0.00000000e+00,\n",
       "       9.00000000e-02, 4.06937500e-02, 5.41937500e-02, 1.99375000e-01,\n",
       "       1.79775000e-01, 2.23185937e-01, 1.30110937e-01, 1.17685938e-01,\n",
       "       4.18359375e-02, 1.47600000e-01, 1.44375000e-01, 2.03235937e-01,\n",
       "       9.69234375e-02, 2.07984375e-02, 1.52343750e-01, 2.32773437e-01,\n",
       "       1.34400000e-01])"
      ]
     },
     "execution_count": 19,
     "metadata": {},
     "output_type": "execute_result"
    },
    {
     "data": {
      "text/plain": [
       "array([ True,  True,  True,  True,  True,  True,  True,  True, False,\n",
       "        True,  True, False,  True, False, False,  True, False,  True,\n",
       "        True, False,  True,  True, False, False, False, False, False,\n",
       "       False, False,  True, False, False, False,  True,  True,  True,\n",
       "        True,  True, False, False,  True,  True, False, False, False,\n",
       "       False, False,  True,  True,  True,  True,  True, False,  True,\n",
       "        True,  True, False, False,  True,  True,  True])"
      ]
     },
     "execution_count": 19,
     "metadata": {},
     "output_type": "execute_result"
    },
    {
     "data": {
      "text/plain": [
       "35"
      ]
     },
     "execution_count": 19,
     "metadata": {},
     "output_type": "execute_result"
    }
   ],
   "source": [
    "sel.variances_\n",
    "sel.get_support()\n",
    "sum(sel.get_support())"
   ]
  },
  {
   "cell_type": "code",
   "execution_count": 20,
   "metadata": {},
   "outputs": [
    {
     "name": "stdout",
     "output_type": "stream",
     "text": [
      "\n",
      " Confusion Matrix : \n",
      " [[ 34  25]\n",
      " [ 30 111]]\n",
      "Accuracy = 0.72\n",
      "F1 Score = 0.80\n",
      "Kappa = 0.35\n",
      "Log Loss = 9.50\n"
     ]
    }
   ],
   "source": [
    "X_train_new = X_train.loc[:, sel.get_support()]\n",
    "X_test_new = X_test.loc[:, sel.get_support()]\n",
    "\n",
    "evaluate_with_dt(X_train_new, X_test_new, y_train['Class'], y_test['Class'])"
   ]
  },
  {
   "cell_type": "markdown",
   "metadata": {},
   "source": [
    "## Univariate Feature Selection (Filter Method, Supervised)"
   ]
  },
  {
   "cell_type": "code",
   "execution_count": 21,
   "metadata": {},
   "outputs": [
    {
     "data": {
      "text/plain": [
       "SelectKBest(score_func=<function chi2 at 0x0000022A8414A2F0>)"
      ]
     },
     "execution_count": 21,
     "metadata": {},
     "output_type": "execute_result"
    }
   ],
   "source": [
    "from sklearn.feature_selection import SelectKBest, chi2\n",
    "\n",
    "sel = SelectKBest(chi2, k=10)\n",
    "sel.fit(X_train, y_train)"
   ]
  },
  {
   "cell_type": "code",
   "execution_count": 22,
   "metadata": {},
   "outputs": [
    {
     "data": {
      "text/plain": [
       "array([1.06823246e-48, 0.00000000e+00, 4.09363596e-01, 8.53102259e-01,\n",
       "       5.61882097e-14, 6.44590179e-01, 9.63002992e-01, 5.97370086e-01,\n",
       "       6.69852691e-01, 1.54978247e-09, 5.75839949e-03, 1.38203850e-01,\n",
       "       4.52646515e-11, 4.45131086e-06, 1.90630991e-04, 3.67405390e-01,\n",
       "       9.98219008e-01, 7.21676188e-06, 8.03585798e-03, 2.69078763e-02,\n",
       "       8.92054990e-01, 2.23837345e-03, 6.52000750e-01, 8.90134400e-01,\n",
       "       1.40549331e-02,            nan, 3.61033126e-01, 3.02894981e-01,\n",
       "       1.70724193e-01, 2.01603259e-02, 3.00953646e-01, 4.53967611e-02,\n",
       "       1.85022557e-02, 1.31559791e-02, 2.85051843e-02, 6.27098026e-01,\n",
       "       3.40446647e-01, 2.27435459e-02, 1.60413012e-01, 3.02659985e-01,\n",
       "       3.42272027e-02, 6.82146244e-02, 8.59320947e-01,            nan,\n",
       "       8.64553871e-01, 5.11213923e-01, 2.15101186e-01, 1.06310578e-03,\n",
       "       9.53731444e-01, 5.09482599e-01, 8.67207881e-04, 5.99308430e-03,\n",
       "       3.65503443e-01, 1.83767520e-01, 6.31610930e-03, 1.53712588e-02,\n",
       "       5.86305068e-03, 9.48893561e-01, 2.00858431e-01, 9.32849216e-01,\n",
       "       2.14727509e-01])"
      ]
     },
     "execution_count": 22,
     "metadata": {},
     "output_type": "execute_result"
    },
    {
     "data": {
      "text/plain": [
       "array([ True,  True, False, False,  True, False, False, False, False,\n",
       "        True, False, False,  True,  True,  True, False, False,  True,\n",
       "       False, False, False, False, False, False, False, False, False,\n",
       "       False, False, False, False, False, False, False, False, False,\n",
       "       False, False, False, False, False, False, False, False, False,\n",
       "       False, False,  True, False, False,  True, False, False, False,\n",
       "       False, False, False, False, False, False, False])"
      ]
     },
     "execution_count": 22,
     "metadata": {},
     "output_type": "execute_result"
    }
   ],
   "source": [
    "sel.pvalues_\n",
    "sel.get_support()"
   ]
  },
  {
   "cell_type": "code",
   "execution_count": 23,
   "metadata": {},
   "outputs": [
    {
     "name": "stdout",
     "output_type": "stream",
     "text": [
      "\n",
      " Confusion Matrix : \n",
      " [[ 30  29]\n",
      " [ 22 119]]\n",
      "Accuracy = 0.74\n",
      "F1 Score = 0.82\n",
      "Kappa = 0.37\n",
      "Log Loss = 8.81\n"
     ]
    }
   ],
   "source": [
    "X_train_new = X_train.loc[:, sel.get_support()]\n",
    "X_test_new = X_test.loc[:, sel.get_support()]\n",
    "\n",
    "evaluate_with_dt(X_train_new, X_test_new, y_train['Class'], y_test['Class'])"
   ]
  },
  {
   "cell_type": "markdown",
   "metadata": {},
   "source": [
    "## Recursive Feature Elimination (Wrapper Method)"
   ]
  },
  {
   "cell_type": "code",
   "execution_count": 24,
   "metadata": {},
   "outputs": [
    {
     "name": "stdout",
     "output_type": "stream",
     "text": [
      "Wall time: 6.98 s\n"
     ]
    },
    {
     "data": {
      "text/plain": [
       "RFECV(cv=StratifiedKFold(n_splits=20, random_state=None, shuffle=False),\n",
       "      estimator=DecisionTreeClassifier(random_state=0), scoring='accuracy')"
      ]
     },
     "execution_count": 24,
     "metadata": {},
     "output_type": "execute_result"
    }
   ],
   "source": [
    "from sklearn.svm import SVC\n",
    "from sklearn.tree import DecisionTreeClassifier\n",
    "from sklearn.model_selection import StratifiedKFold\n",
    "from sklearn.feature_selection import RFECV\n",
    "from sklearn.neighbors import KNeighborsClassifier\n",
    "\n",
    "clf = DecisionTreeClassifier(random_state=0)\n",
    "rfecv = RFECV(estimator=clf, step=1, cv=StratifiedKFold(20), scoring='accuracy')\n",
    "%time rfecv.fit(X_train, y_train)"
   ]
  },
  {
   "cell_type": "code",
   "execution_count": 25,
   "metadata": {},
   "outputs": [
    {
     "name": "stdout",
     "output_type": "stream",
     "text": [
      "Optimal number of features : 5\n"
     ]
    },
    {
     "data": {
      "text/plain": [
       "array([ 0,  1,  3,  4, 12], dtype=int64)"
      ]
     },
     "execution_count": 25,
     "metadata": {},
     "output_type": "execute_result"
    },
    {
     "data": {
      "text/plain": [
       "Index(['Duration', 'Amount', 'ResidenceDuration', 'Age',\n",
       "       'CheckingAccountStatus.none'],\n",
       "      dtype='object')"
      ]
     },
     "execution_count": 25,
     "metadata": {},
     "output_type": "execute_result"
    }
   ],
   "source": [
    "print(\"Optimal number of features : %d\" % rfecv.n_features_)\n",
    "rfecv.get_support(indices=True)\n",
    "X_train.columns[rfecv.get_support()]"
   ]
  },
  {
   "cell_type": "code",
   "execution_count": 28,
   "metadata": {},
   "outputs": [
    {
     "data": {
      "image/png": "[encoded data removed]",
      "text/plain": [
       "<Figure size 1152x720 with 1 Axes>"
      ]
     },
     "metadata": {
      "needs_background": "light"
     },
     "output_type": "display_data"
    }
   ],
   "source": [
    "# Plot number of features VS. cross-validation scores\n",
    "plt.figure(figsize=(16, 10));\n",
    "plt.grid(True);\n",
    "plt.title('German Credit, Decision Tree', fontsize=22);\n",
    "plt.xlabel(\"Number of features\", fontsize=22);\n",
    "plt.ylabel(\"Cross validation score (accuracy)\", fontsize=22);\n",
    "plt.plot(range(1, len(rfecv.grid_scores_) + 1), rfecv.grid_scores_);\n",
    "plt.xticks(fontsize=18);\n",
    "plt.yticks(fontsize=18);\n",
    "plt.tight_layout();\n",
    "#plt.savefig('out/german_credit-rfe.png');"
   ]
  },
  {
   "cell_type": "code",
   "execution_count": null,
   "metadata": {},
   "outputs": [],
   "source": []
  }
 ],
 "metadata": {
  "kernelspec": {
   "display_name": "small_sklearn_kernel",
   "language": "python",
   "name": "small_sklearn_kernel"
  },
  "language_info": {
   "codemirror_mode": {
    "name": "ipython",
    "version": 3
   },
   "file_extension": ".py",
   "mimetype": "text/x-python",
   "name": "python",
   "nbconvert_exporter": "python",
   "pygments_lexer": "ipython3",
   "version": "3.6.10"
  }
 },
 "nbformat": 4,
 "nbformat_minor": 4
}
